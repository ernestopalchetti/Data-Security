{
 "cells": [
  {
   "cell_type": "code",
   "execution_count": 16,
   "id": "3becfdf3",
   "metadata": {},
   "outputs": [],
   "source": [
    "import numpy as np"
   ]
  },
  {
   "cell_type": "markdown",
   "id": "b72bc2d0",
   "metadata": {},
   "source": [
    "# Cifrario di Vigenere\n",
    "Implementiamo il cifrario e il suo attacco più famoso.\n",
    "## Dizionari"
   ]
  },
  {
   "cell_type": "code",
   "execution_count": 17,
   "id": "240ca3f5",
   "metadata": {},
   "outputs": [],
   "source": [
    "alfabeto=\"abcdefghijklmnopqrstuvwxyz\"\n",
    "alfabeto=list(alfabeto)\n",
    "r=range(26)\n",
    "D=dict(zip(alfabeto,r))\n",
    "DD=dict(zip(r,alfabeto))"
   ]
  },
  {
   "cell_type": "markdown",
   "id": "30de9e87",
   "metadata": {},
   "source": [
    "## Funzioni per passare da lettere a numeri e viceversa"
   ]
  },
  {
   "cell_type": "code",
   "execution_count": 18,
   "id": "baf110fe",
   "metadata": {},
   "outputs": [],
   "source": [
    "def letnum(v):\n",
    "    v=[D[i] for i in v]\n",
    "    return v\n",
    "def numlet(v):\n",
    "    v=[DD[i] for i in v]\n",
    "    return v"
   ]
  },
  {
   "cell_type": "markdown",
   "id": "7b6faddd",
   "metadata": {},
   "source": [
    "### Esempi di utilizzo delle conversioni"
   ]
  },
  {
   "cell_type": "code",
   "execution_count": 19,
   "id": "e348e94b",
   "metadata": {},
   "outputs": [
    {
     "name": "stdout",
     "output_type": "stream",
     "text": [
      "[2, 8, 0, 14]\n",
      "['c', 'i', 'a', 'o']\n"
     ]
    }
   ],
   "source": [
    "a=\"ciao\"\n",
    "a=list(a)\n",
    "s=letnum(a)\n",
    "print(s)\n",
    "c=numlet(s)\n",
    "print(c)"
   ]
  },
  {
   "cell_type": "markdown",
   "id": "b5498027",
   "metadata": {},
   "source": [
    "## Ricavare il plaintext"
   ]
  },
  {
   "cell_type": "code",
   "execution_count": 20,
   "id": "b03a8852",
   "metadata": {},
   "outputs": [],
   "source": [
    "file=open(\"Plain.txt\",\"r\")\n",
    "p=[]\n",
    "for line in file:\n",
    "    p.append(line)\n",
    "\n",
    "file.close()\n",
    "p=list(p)"
   ]
  },
  {
   "cell_type": "markdown",
   "id": "66e21205",
   "metadata": {},
   "source": [
    "### Correzione spazi e maiuscole"
   ]
  },
  {
   "cell_type": "code",
   "execution_count": 21,
   "id": "c2da4ac9",
   "metadata": {},
   "outputs": [],
   "source": [
    "p=\"\".join(p)\n",
    "p=p.split(\" \")\n",
    "p=\"\".join(p)\n",
    "p=p.split(\"\\n\")\n",
    "p=\"\".join(p)\n",
    "p=p.split(\"'\")\n",
    "p=\"\".join(p)\n",
    "p=p.lower()\n",
    "p=list(p)"
   ]
  },
  {
   "cell_type": "markdown",
   "id": "89fda225",
   "metadata": {},
   "source": [
    "## Conversione in numeri"
   ]
  },
  {
   "cell_type": "code",
   "execution_count": 22,
   "id": "79c4f273",
   "metadata": {},
   "outputs": [],
   "source": [
    "p=letnum(p)"
   ]
  },
  {
   "cell_type": "markdown",
   "id": "a02aeaab",
   "metadata": {},
   "source": [
    "## Divisione in blocchi\n",
    "Decidiamo una chiave, la convertiamo in numeri e dividiamo il testo in blocchi facendo in modo che le lunghezze combacino."
   ]
  },
  {
   "cell_type": "code",
   "execution_count": 23,
   "id": "d061e70f",
   "metadata": {},
   "outputs": [],
   "source": [
    "k=\"poggialoli\"\n",
    "k=list(k)\n",
    "k=letnum(k)\n",
    "m=len(k)\n",
    "N=len(p)\n",
    "if N%m>0:\n",
    "    for i in range(m-N%m):\n",
    "        p.append(0)\n",
    "p=np.array(p)\n",
    "k=np.array(k)\n",
    "N=len(p)\n",
    "righe=N//m"
   ]
  },
  {
   "cell_type": "code",
   "execution_count": 24,
   "id": "3ef1c8df",
   "metadata": {},
   "outputs": [],
   "source": [
    "p=np.reshape(p,(righe,m))"
   ]
  },
  {
   "cell_type": "markdown",
   "id": "503ba9f5",
   "metadata": {},
   "source": [
    "## Cifratura"
   ]
  },
  {
   "cell_type": "code",
   "execution_count": 25,
   "id": "b09ac391",
   "metadata": {},
   "outputs": [],
   "source": [
    "c=[(p[i]+k)%26 for i in range(righe)]\n",
    "c=np.reshape(c,(1,N))\n",
    "c=c[0]\n",
    "c=numlet(c)\n",
    "c=\"\".join(c)"
   ]
  },
  {
   "cell_type": "markdown",
   "id": "8e111a71",
   "metadata": {},
   "source": [
    "## Esportare i risultati"
   ]
  },
  {
   "cell_type": "code",
   "execution_count": 26,
   "id": "1d2ee3d8",
   "metadata": {},
   "outputs": [],
   "source": [
    "file=open(\"Cipher.txt\",\"w\")\n",
    "file.writelines(c)\n",
    "file.close()"
   ]
  },
  {
   "cell_type": "markdown",
   "id": "547bde64",
   "metadata": {},
   "source": [
    "## Decifriamo"
   ]
  },
  {
   "cell_type": "code",
   "execution_count": 27,
   "id": "90187e5d",
   "metadata": {},
   "outputs": [],
   "source": [
    "cb=np.reshape(np.array(letnum(list(c))),(righe,m))\n",
    "p2=[(cb[i]-k)%26 for i in range(righe)]\n",
    "p2=(np.reshape(p2,(1,N)))[0]\n",
    "p2=numlet(p2)\n",
    "p2=\"\".join(p2)"
   ]
  },
  {
   "cell_type": "markdown",
   "id": "0e58efaa",
   "metadata": {},
   "source": [
    "# Crack"
   ]
  },
  {
   "cell_type": "markdown",
   "id": "49017aaa",
   "metadata": {},
   "source": [
    "Definiamo una funzione per l'analisi delle frequenze"
   ]
  },
  {
   "cell_type": "code",
   "execution_count": 28,
   "id": "fa7ce844",
   "metadata": {},
   "outputs": [],
   "source": [
    "def frequenze(c):\n",
    "    alfabeto=list(\"abcdefghijklmnopqrstuvwxyz\")\n",
    "    F=dict(zip(alfabeto,[0 for i in range(26)]))\n",
    "    for i in c:\n",
    "        F[i]+=1\n",
    "    N=len(c)\n",
    "    \n",
    "    return F"
   ]
  },
  {
   "cell_type": "code",
   "execution_count": 29,
   "id": "35b8f78f",
   "metadata": {},
   "outputs": [],
   "source": [
    "F=frequenze(c)"
   ]
  },
  {
   "cell_type": "markdown",
   "id": "9b50a570",
   "metadata": {},
   "source": [
    "## Test Lunghezza Chiave"
   ]
  },
  {
   "cell_type": "code",
   "execution_count": 42,
   "id": "1add5e25",
   "metadata": {},
   "outputs": [
    {
     "name": "stdout",
     "output_type": "stream",
     "text": [
      "2 0.04865596313498885\n",
      "3 0.043313708999158956\n",
      "4 0.048685270636490155\n",
      "5 0.05731103985341274\n",
      "6 0.0483103810629943\n",
      "7 0.04494954379856208\n",
      "8 0.04905992949471211\n",
      "9 0.04356825776846726\n",
      "10 0.07314763743335172\n",
      "Possibile chiev 10\n"
     ]
    }
   ],
   "source": [
    "mm=2\n",
    "Trovato=False\n",
    "while not Trovato and mm<N:\n",
    "    \n",
    "    N=len(c)\n",
    "    righe=N//mm\n",
    "    c2=c[0:righe*mm]\n",
    "    c_blocchi=np.reshape(np.array(list(c2)),(N//mm,mm))\n",
    "    \n",
    "    c_blocchi=c_blocchi.transpose()\n",
    "    #print(c_blocchi[0])\n",
    "    Ic=0\n",
    "    #print(c_blocchi)\n",
    "    for i in range(len(c_blocchi)):  \n",
    "        N2=len(c2)\n",
    "        somma=0\n",
    "        F=frequenze(c_blocchi[i])\n",
    "        #print(F)\n",
    "        for key in F:\n",
    "            f=F[key]\n",
    "            somma=somma+f*(f-1)/(righe*(righe-1))\n",
    "        #print(somma)\n",
    "        Ic=Ic+somma\n",
    "    Ic=Ic/len(c_blocchi)\n",
    "    print(mm,Ic)\n",
    "    if Ic>0.060:\n",
    "        Trovato=True\n",
    "        mm=mm-1\n",
    "    mm+=1\n",
    "    \n",
    "print(\"Possibile chiev\",mm)"
   ]
  },
  {
   "cell_type": "code",
   "execution_count": 38,
   "id": "403ebb73",
   "metadata": {},
   "outputs": [
    {
     "data": {
      "text/plain": [
       "11"
      ]
     },
     "execution_count": 38,
     "metadata": {},
     "output_type": "execute_result"
    }
   ],
   "source": [
    "mm"
   ]
  },
  {
   "cell_type": "code",
   "execution_count": null,
   "id": "6c639351",
   "metadata": {},
   "outputs": [],
   "source": []
  }
 ],
 "metadata": {
  "kernelspec": {
   "display_name": "Python 3 (ipykernel)",
   "language": "python",
   "name": "python3"
  },
  "language_info": {
   "codemirror_mode": {
    "name": "ipython",
    "version": 3
   },
   "file_extension": ".py",
   "mimetype": "text/x-python",
   "name": "python",
   "nbconvert_exporter": "python",
   "pygments_lexer": "ipython3",
   "version": "3.10.4"
  }
 },
 "nbformat": 4,
 "nbformat_minor": 5
}
