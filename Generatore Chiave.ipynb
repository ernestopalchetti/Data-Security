{
 "cells": [
  {
   "cell_type": "code",
   "execution_count": 38,
   "id": "648c4584",
   "metadata": {},
   "outputs": [],
   "source": [
    "import random as rd\n"
   ]
  },
  {
   "cell_type": "code",
   "execution_count": null,
   "id": "df914b9b",
   "metadata": {},
   "outputs": [],
   "source": [
    "\n"
   ]
  },
  {
   "cell_type": "code",
   "execution_count": 39,
   "id": "00a4d7ca",
   "metadata": {},
   "outputs": [],
   "source": [
    "alfa=\"abcdefghijklmnopqrstuvwxyz\"\n",
    "D=dict(zip(list(alfa),range(26)))\n",
    "DD=dict(zip(range(26), list(alfa)))"
   ]
  },
  {
   "cell_type": "code",
   "execution_count": 40,
   "id": "a0bbe629",
   "metadata": {},
   "outputs": [],
   "source": [
    "N=10000000\n",
    "d=[rd.randint(0,16) for i in range(N)]\n"
   ]
  },
  {
   "cell_type": "code",
   "execution_count": 41,
   "id": "67ae8179",
   "metadata": {},
   "outputs": [],
   "source": [
    "chiave=\"\".join([DD[i] for i in d])"
   ]
  },
  {
   "cell_type": "code",
   "execution_count": 42,
   "id": "27fc7aa2",
   "metadata": {},
   "outputs": [],
   "source": [
    "file=open(\"chiave.txt\",\"w\")\n",
    "file.writelines(chiave)\n",
    "file.close()"
   ]
  },
  {
   "cell_type": "code",
   "execution_count": null,
   "id": "c92ec9a2",
   "metadata": {},
   "outputs": [],
   "source": []
  }
 ],
 "metadata": {
  "kernelspec": {
   "display_name": "Python 3 (ipykernel)",
   "language": "python",
   "name": "python3"
  },
  "language_info": {
   "codemirror_mode": {
    "name": "ipython",
    "version": 3
   },
   "file_extension": ".py",
   "mimetype": "text/x-python",
   "name": "python",
   "nbconvert_exporter": "python",
   "pygments_lexer": "ipython3",
   "version": "3.9.12"
  }
 },
 "nbformat": 4,
 "nbformat_minor": 5
}
