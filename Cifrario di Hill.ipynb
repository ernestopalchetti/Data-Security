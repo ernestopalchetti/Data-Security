{
 "cells": [
  {
   "cell_type": "markdown",
   "id": "5aa4fd6a",
   "metadata": {},
   "source": [
    "# Cifrario di Hill\n",
    "## Implementiamo il cifrario di Hill in python\n",
    "Per prima cosa importiamo numpy che gestisce già le moltiplicazioni tra matrici e tra vettori."
   ]
  },
  {
   "cell_type": "code",
   "execution_count": 442,
   "id": "589df2b2",
   "metadata": {},
   "outputs": [],
   "source": [
    "import numpy as np\n",
    "import scipy as sc\n",
    "from itertools import combinations"
   ]
  },
  {
   "cell_type": "markdown",
   "id": "64fe757c",
   "metadata": {},
   "source": [
    "Definiamo quindi una funzione che si appoggi alla moltiplicazione matriciale di numpy ma la renda modulo 26."
   ]
  },
  {
   "cell_type": "code",
   "execution_count": 443,
   "id": "6f59d1be",
   "metadata": {},
   "outputs": [],
   "source": [
    "def mulmod(A,B):\n",
    "    C=np.dot(A,B)\n",
    "    d=C.shape\n",
    "    \n",
    "    for i in range(d[0]):\n",
    "        for j in range(d[1]):\n",
    "            C[i,j]=C[i,j]%26\n",
    "    return C"
   ]
  },
  {
   "cell_type": "markdown",
   "id": "a7b8d168",
   "metadata": {},
   "source": [
    "Definiamo una lista che colleghi le lettere ai valori numerici."
   ]
  },
  {
   "cell_type": "code",
   "execution_count": 444,
   "id": "37eda954",
   "metadata": {},
   "outputs": [],
   "source": [
    "s=\"abcdefghijklmnopqrstuvwxyz\"\n",
    "alfabeto=list(s)\n",
    "r=range(26)\n",
    "D=dict(zip(alfabeto,r))\n",
    "DD=dict(zip(r,alfabeto))"
   ]
  },
  {
   "cell_type": "markdown",
   "id": "99ee2fc8",
   "metadata": {},
   "source": [
    "Estraiamo il testo da un file txt."
   ]
  },
  {
   "cell_type": "code",
   "execution_count": 445,
   "id": "2dc15d68",
   "metadata": {},
   "outputs": [],
   "source": [
    "file=open(\"Plain.txt\",\"r\")\n",
    "PT=[]\n",
    "for line in file:\n",
    "    PT.append(line)\n",
    "\n",
    "file.close()"
   ]
  },
  {
   "cell_type": "markdown",
   "id": "82d60dbc",
   "metadata": {},
   "source": [
    "Ripuliamo il messaggio."
   ]
  },
  {
   "cell_type": "code",
   "execution_count": 446,
   "id": "0d16b930",
   "metadata": {},
   "outputs": [],
   "source": [
    "PT=\"\".join(PT)\n",
    "PT=PT.split(\" \")\n",
    "PT=\"\".join(PT)\n",
    "PT=PT.split(\"\\n\")\n",
    "PT=\"\".join(PT)\n",
    "PT=PT.split(\"'\")\n",
    "PT=\"\".join(PT)\n",
    "PT=PT.lower()\n"
   ]
  },
  {
   "cell_type": "markdown",
   "id": "f09bc9be",
   "metadata": {},
   "source": [
    "Trasformiamo il messaggio in un  vettore numerico e lo dividiamo in blocchi di dimensione fissata m con un reshape."
   ]
  },
  {
   "cell_type": "code",
   "execution_count": 447,
   "id": "3bfdf28e",
   "metadata": {},
   "outputs": [
    {
     "name": "stdout",
     "output_type": "stream",
     "text": [
      "1477\n",
      "[13 14 13 ...  4  0  0]\n"
     ]
    },
    {
     "data": {
      "text/plain": [
       "array([[13, 14, 13, ...,  6,  8,  0],\n",
       "       [ 2,  7,  4, ..., 17, 14,  8],\n",
       "       [18, 14, 11, ...,  4,  0,  0]])"
      ]
     },
     "execution_count": 447,
     "metadata": {},
     "output_type": "execute_result"
    }
   ],
   "source": [
    "m=3\n",
    "P=list(PT)\n",
    "P=[ D[P[i]] for i in range(len(P))]\n",
    "n=len(P)\n",
    "print(n)\n",
    "P=P+[0]*(m-n%m)\n",
    "#print(P)\n",
    "P=np.array(P)\n",
    "print(P)\n",
    "n=len(P)\n",
    "righe=int(n/m)\n",
    "\n",
    "\n",
    "P=np.reshape(P,(m,righe))\n",
    "P"
   ]
  },
  {
   "cell_type": "code",
   "execution_count": 448,
   "id": "a4981641",
   "metadata": {},
   "outputs": [
    {
     "data": {
      "text/plain": [
       "array([17, 14,  4])"
      ]
     },
     "execution_count": 448,
     "metadata": {},
     "output_type": "execute_result"
    }
   ],
   "source": [
    "P[:,295]"
   ]
  },
  {
   "cell_type": "markdown",
   "id": "47d9f02d",
   "metadata": {},
   "source": [
    "Definiamo una chiave K"
   ]
  },
  {
   "cell_type": "code",
   "execution_count": 449,
   "id": "3b23892a",
   "metadata": {},
   "outputs": [],
   "source": [
    "K=np.array([[5,2,4],[15,3,12],[1,7,5]])"
   ]
  },
  {
   "cell_type": "markdown",
   "id": "51e755ac",
   "metadata": {},
   "source": [
    "Cifriamo tramite la moltiplicazione matriciale modulo 26 e otteniamo il testo cifrato riutilizzando la corridpondenza lettere numeri."
   ]
  },
  {
   "cell_type": "code",
   "execution_count": 450,
   "id": "c37681d4",
   "metadata": {},
   "outputs": [],
   "source": [
    "C=mulmod(K,P)\n",
    "CT=np.reshape(C,(1,n))\n",
    "CT=CT[0]\n",
    "CT=[DD[i] for i in CT]\n",
    "CT=\"\".join(CT)"
   ]
  },
  {
   "cell_type": "code",
   "execution_count": 451,
   "id": "85a0ce9a",
   "metadata": {},
   "outputs": [
    {
     "data": {
      "text/plain": [
       "'lknlcsuiiwxmnxcvmotegistdctkgcnmufuigpcganmtkstuhkgseqbhmgssoowpggwuitetnemtcerqtyqasfwgotunachcgafkavwkdscjstiosakmgesdbfcuomaqauoxxebktoxarulsfyjkoxsbcvognypeuwwdfqhclpyvqwdwgbzyiezomsqaqnyiaseiixqxupgqarqhquqijqcvatxxwemqcymlimzgaibwnujwoidtcjrqatwcckaxwkwshihcxmgolstamtgvfudqvqiweqhlycpvyhhzociyqazurakslvgkkujmfaidovoyhyakwbzmdjywwouxedbfuamrcevqcetkcwpkzydomwagmsamtmciojjqwpaerieprudkoxvivegwetayodihwvelkikogwszzeteidapqbwauhmgcjipwcwsbfjkccbkmwujgegulijsxioasjsuectqbwwmgkaupcdceecqqbjbfgvxylytddbtcuhfflmpxyqysmiluvztmtvbgusysopdwishczjniyisqdaidlncyfpthftlprwmntlyeudhlaznbyuldtacoidoflaalppwajbedstqcwdwisxlgnzamtgducsrnjzvpkvljagqeellcherodobedpvaivkzhqwysuhlamyeaquvklsiqcwgltlbbosqfnbfrsqsbrqntqbefwfoailjruvnowbyxnfgqlapedzmkwqebenmqowpxnfzmkmvvjhaxnusriwezdqpayobwumveaihdlikgtssqavciguueddsrsztkqeovkqgbryujthvoogbdjydwlyawamkwwhxvcgzhotgyfoffdkkndiqrbjwbvyegmnhaslyahzavancktajrjacodnherxatoasyosuazcmktonkcytagmrqgemfcqgtafbmhkquguvjmlrjlusqbpznqdweoqecrqwryqunahgyndsdifttvvbtdfbwsebwtovfwumlaehlwfyorypyvzutgqsqryuaihnwhsslvsphiocotjzpatdljiztldreojxbtalbqnthvaberxixrwqkbvnmpqcedtsclnvbgooulwiyhbcumicfipviyjjruisqkkpjthtuhuvijqwqnhyoxpqdosbwkcudurcrkhrnfaskivjrvbkcxpyrsepgzrgurifyagaguuhbpswzbybslltubvsnzsthqapynpkmxghqtsbamhavnxdssdlghklhpbwjtedbmbemccnfjrivhbdpeyncwhyljyzqbrhvzosseyeoshrsuvpngqulrhnncdibvwuzmqyhjzfzssxlrlddvfwhdlwbdsbhfcqqgcxfovwczjhrvlzpsxsqdheraotdyrujigqqrmoceuuewxfjtirlqeommicoikxozsnrwvhsngolxulfkvcctmbqvmsmkhxmxpljtfmlvlpce'"
      ]
     },
     "execution_count": 451,
     "metadata": {},
     "output_type": "execute_result"
    }
   ],
   "source": [
    "CT"
   ]
  },
  {
   "cell_type": "markdown",
   "id": "cad4c5e9",
   "metadata": {},
   "source": [
    "## Inversione e Decifratura\n",
    "Costruiamo una funzione che calocli, se possibile, la matrice inversa di K e usiamola per decifrare il testo."
   ]
  },
  {
   "cell_type": "code",
   "execution_count": 452,
   "id": "4e7baeb3",
   "metadata": {},
   "outputs": [],
   "source": [
    "def invertibile(A):\n",
    "    det=round(sc.linalg.det(A))\n",
    "    return not (det%13==0 or det%2==0)\n",
    "\n",
    "    "
   ]
  },
  {
   "cell_type": "code",
   "execution_count": 453,
   "id": "d53da831",
   "metadata": {},
   "outputs": [
    {
     "data": {
      "text/plain": [
       "24"
      ]
     },
     "execution_count": 453,
     "metadata": {},
     "output_type": "execute_result"
    }
   ],
   "source": [
    "def ridotta(A,riga,colonna):\n",
    "    d=A.shape\n",
    "    rid=[]\n",
    "    for i in range(d[0]):\n",
    "        l=[]\n",
    "        if i!=riga:\n",
    "            for j in range(d[1]):\n",
    "                if j!=colonna:\n",
    "                    l.append(A[i,j])\n",
    "            rid.append(l)\n",
    "    return np.array(rid)\n",
    "\n",
    "\n",
    "def inversomod(x,num):\n",
    "    i=2\n",
    "    resti=[num,x]\n",
    "    quozienti=[]\n",
    "    while resti[i-2]%resti[i-1]>0:\n",
    "        resti.append(resti[i-2]%resti[i-1])\n",
    "        quozienti.append(resti[i-2]//resti[i-1])\n",
    "        i+=1\n",
    "    i=i-1\n",
    "    x=1\n",
    "    #print(\"i\",i)\n",
    "    #print(quozienti, \"\\n\",resti)\n",
    "    y=-quozienti[i-2]\n",
    "    #print(x,y, i)\n",
    "    while i>2:\n",
    "        \n",
    "        (x,y)=(y,x-y*quozienti[i-3])\n",
    "        #print(x,y,i)\n",
    "        i=i-1\n",
    "    \n",
    "    return y%26\n",
    "\n",
    "\n",
    "inversomod(7,197)"
   ]
  },
  {
   "cell_type": "code",
   "execution_count": 454,
   "id": "e299f0e8",
   "metadata": {},
   "outputs": [],
   "source": [
    "def inversa(A):\n",
    "    det=round(sc.linalg.det(A)%26)\n",
    "    print(det)\n",
    "    invdet=inversomod(det,26)\n",
    "    print(invdet)\n",
    "\n",
    "    inv=[]\n",
    "    d=A.shape\n",
    "    \n",
    "    for i in range(d[0]):\n",
    "        riga=[]\n",
    "        for j in range(d[1]):\n",
    "            parita=(-1)**(((i+1)+(j+1)))\n",
    "            rid=ridotta(A,j,i)\n",
    "            #print(rid.shape)\n",
    "            if 1 in rid.shape:\n",
    "                detrid=rid[0]\n",
    "            else:\n",
    "                detrid=round(sc.linalg.det(rid)%26)\n",
    "            #print(type(parita), type(invdet), type(detrid))\n",
    "            riga.append((parita*detrid*invdet)%26)\n",
    "        inv.append(riga)\n",
    "    return np.array(inv)"
   ]
  },
  {
   "cell_type": "code",
   "execution_count": 455,
   "id": "0112a943",
   "metadata": {},
   "outputs": [],
   "source": [
    "def ridotta(A,riga,colonna):\n",
    "    d=A.shape\n",
    "    rid=[]\n",
    "    for i in range(d[0]):\n",
    "        l=[]\n",
    "        if i!=riga:\n",
    "            for j in range(d[1]):\n",
    "                if j!=colonna:\n",
    "                    l.append(A[i,j])\n",
    "            rid.append(l)\n",
    "    return np.array(rid)\n"
   ]
  },
  {
   "cell_type": "code",
   "execution_count": 456,
   "id": "34ac549b",
   "metadata": {},
   "outputs": [
    {
     "name": "stdout",
     "output_type": "stream",
     "text": [
      "15\n",
      "7\n"
     ]
    },
    {
     "data": {
      "text/plain": [
       "array([[11, 22,  6],\n",
       "       [ 1, 17,  0],\n",
       "       [12,  3, 25]])"
      ]
     },
     "execution_count": 456,
     "metadata": {},
     "output_type": "execute_result"
    }
   ],
   "source": [
    "Inv=inversa(K)\n",
    "Inv"
   ]
  },
  {
   "cell_type": "code",
   "execution_count": 457,
   "id": "fc2011e8",
   "metadata": {},
   "outputs": [
    {
     "data": {
      "text/plain": [
       "array([[1, 0, 0],\n",
       "       [0, 1, 0],\n",
       "       [0, 0, 1]], dtype=int32)"
      ]
     },
     "execution_count": 457,
     "metadata": {},
     "output_type": "execute_result"
    }
   ],
   "source": [
    "np.dot(K,Inv)%26"
   ]
  },
  {
   "cell_type": "code",
   "execution_count": 458,
   "id": "93fc0dbe",
   "metadata": {},
   "outputs": [
    {
     "data": {
      "text/plain": [
       "'nonpuoicombattereunaguerradasoloilcuoreeunarmaturacisalvamasiconsumaavoltechiedereaiutocifapauramabastaunsolopassocomeilprimouomosullalunaperchedafuorinonsivedequantevoltehaipiantosinascesoliesimuorenelcuorediqualcunaltrosiamoangeliconunalasoltantoeriusciremoavolaresolorestandolunoaccantoallaltrocammineroaunpassodateefermeremoilventocomedentroagliuraganisupereroicomeioeteseavraipauraallorastringimilemaniperchesiamoinvincibilivicinieovunqueandrosaraiconmesupereroisoloioeteduegoccedipioggiachesalvanoilmondodallenuvolecisonoferitechenonsenevannonemmenocoltempopiuprofondediquellochesembranoguarisconosopralapellemainfondoticambianodentrohoversatocositantelacrimefinoadodiaremestessomaognivoltachehotoccatoilfondotucerilostessoohquandosiamodistantiognivoltachepiangipiangepureilcieloohnonhomoltodadartimatigiurochecammineroaunpassodateefermeremoilventocomedentroagliuraganisupereroicomeioeteseavraipauraallorastringimilemaniperchesiamoinvincibilivicinieovunqueandrosaraiconmesupereroisoloioeteduegoccedipioggiachesalvanoilmondodallenuvolemibastaunattimoecapiscocheognicicatricetuaeanchemiamibastaunattimoperdirticheconteognipostoecasamiaperchesiamoinvincibilivicinieovunqueandrosaraiconmesupereroisoloioeteduegoccedipioggiachesalvanoilmondodallenuvolecammineroaunpassodateefermeremoilventocomedentroagliuraganisupereroicomeioeteseavraipauraallorastringimilemaniperchesiamoinvincibilivicinieovunqueandrosaraiconmesupereroisoloioeteduegoccedipioggiachesalvanoilmondodallenuvoleaa'"
      ]
     },
     "execution_count": 458,
     "metadata": {},
     "output_type": "execute_result"
    }
   ],
   "source": [
    "PP=np.dot(Inv,C)%26\n",
    "PPP=np.reshape(PP,(1,n))[0]\n",
    "PPP=\"\".join([DD[i] for i in PPP])\n",
    "PPP"
   ]
  },
  {
   "cell_type": "markdown",
   "id": "d62aa09f",
   "metadata": {},
   "source": [
    "## Attacco"
   ]
  },
  {
   "cell_type": "code",
   "execution_count": 459,
   "id": "976dda78",
   "metadata": {},
   "outputs": [
    {
     "name": "stdout",
     "output_type": "stream",
     "text": [
      "(0, 1, 2)\n"
     ]
    }
   ],
   "source": [
    "\n",
    "lista_indici=list(range(len(P[0])))\n",
    "indici=combinations(lista_indici,m)\n",
    "indice=next(indici)\n",
    "while not invertibile(P[:,indice]):\n",
    "    \n",
    "    #print(indice,invertibile(P[:,indice]))\n",
    "    indice=next(indici)\n",
    "print(indice)"
   ]
  },
  {
   "cell_type": "code",
   "execution_count": 460,
   "id": "68afc9a3",
   "metadata": {},
   "outputs": [
    {
     "data": {
      "text/plain": [
       "11"
      ]
     },
     "execution_count": 460,
     "metadata": {},
     "output_type": "execute_result"
    }
   ],
   "source": [
    "round(sc.linalg.det(P[:,indice])%26)"
   ]
  },
  {
   "cell_type": "code",
   "execution_count": 461,
   "id": "a425638b",
   "metadata": {},
   "outputs": [
    {
     "name": "stdout",
     "output_type": "stream",
     "text": [
      "11\n",
      "19\n"
     ]
    },
    {
     "data": {
      "text/plain": [
       "array([[ 5,  2,  4],\n",
       "       [15,  3, 12],\n",
       "       [ 1,  7,  5]], dtype=int32)"
      ]
     },
     "execution_count": 461,
     "metadata": {},
     "output_type": "execute_result"
    }
   ],
   "source": [
    "Past=P[:,indice]\n",
    "Pastm1=inversa(Past)\n",
    "Kstar=np.dot(C[:,indice],Pastm1)%26\n",
    "Kstar"
   ]
  },
  {
   "cell_type": "code",
   "execution_count": 462,
   "id": "a6bccbce",
   "metadata": {},
   "outputs": [
    {
     "data": {
      "text/plain": [
       "array([[ True,  True,  True],\n",
       "       [ True,  True,  True],\n",
       "       [ True,  True,  True]])"
      ]
     },
     "execution_count": 462,
     "metadata": {},
     "output_type": "execute_result"
    }
   ],
   "source": [
    "Kstar==K"
   ]
  },
  {
   "cell_type": "code",
   "execution_count": null,
   "id": "565a0925",
   "metadata": {},
   "outputs": [],
   "source": []
  },
  {
   "cell_type": "code",
   "execution_count": null,
   "id": "53269f7f",
   "metadata": {},
   "outputs": [],
   "source": []
  }
 ],
 "metadata": {
  "kernelspec": {
   "display_name": "Python 3 (ipykernel)",
   "language": "python",
   "name": "python3"
  },
  "language_info": {
   "codemirror_mode": {
    "name": "ipython",
    "version": 3
   },
   "file_extension": ".py",
   "mimetype": "text/x-python",
   "name": "python",
   "nbconvert_exporter": "python",
   "pygments_lexer": "ipython3",
   "version": "3.10.4"
  }
 },
 "nbformat": 4,
 "nbformat_minor": 5
}
