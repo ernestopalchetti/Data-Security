{
 "cells": [
  {
   "cell_type": "markdown",
   "id": "5aa4fd6a",
   "metadata": {},
   "source": [
    "# Cifrario di Hill\n",
    "## Implementiamo il cifrario di Hill in python\n",
    "Per prima cosa importiamo numpy che gestisce già le moltiplicazioni tra matrici e tra vettori."
   ]
  },
  {
   "cell_type": "code",
   "execution_count": 45,
   "id": "589df2b2",
   "metadata": {},
   "outputs": [],
   "source": [
    "import numpy as np\n",
    "import scipy as sc"
   ]
  },
  {
   "cell_type": "markdown",
   "id": "64fe757c",
   "metadata": {},
   "source": [
    "Definiamo quindi una funzione che si appoggi alla moltiplicazione matriciale di numpy ma la renda modulo 26."
   ]
  },
  {
   "cell_type": "code",
   "execution_count": 46,
   "id": "6f59d1be",
   "metadata": {},
   "outputs": [],
   "source": [
    "def mulmod(A,B):\n",
    "    C=np.dot(A,B)\n",
    "    d=C.shape\n",
    "    \n",
    "    for i in range(d[0]):\n",
    "        for j in range(d[1]):\n",
    "            C[i,j]=C[i,j]%26\n",
    "    return C"
   ]
  },
  {
   "cell_type": "markdown",
   "id": "a7b8d168",
   "metadata": {},
   "source": [
    "Definiamo una lista che colleghi le lettere ai valori numerici."
   ]
  },
  {
   "cell_type": "code",
   "execution_count": 47,
   "id": "37eda954",
   "metadata": {},
   "outputs": [],
   "source": [
    "s=\"abcdefghijklmnopqrstuvwxyz\"\n",
    "alfabeto=list(s)\n",
    "r=range(26)\n",
    "D=dict(zip(alfabeto,r))\n",
    "DD=dict(zip(r,alfabeto))"
   ]
  },
  {
   "cell_type": "markdown",
   "id": "99ee2fc8",
   "metadata": {},
   "source": [
    "Estraiamo il testo da un file txt."
   ]
  },
  {
   "cell_type": "code",
   "execution_count": 48,
   "id": "2dc15d68",
   "metadata": {},
   "outputs": [],
   "source": [
    "file=open(\"Plain.txt\",\"r\")\n",
    "PT=[]\n",
    "for line in file:\n",
    "    PT.append(line)\n",
    "\n",
    "file.close()"
   ]
  },
  {
   "cell_type": "markdown",
   "id": "82d60dbc",
   "metadata": {},
   "source": [
    "Ripuliamo il messaggio."
   ]
  },
  {
   "cell_type": "code",
   "execution_count": 49,
   "id": "0d16b930",
   "metadata": {},
   "outputs": [],
   "source": [
    "PT=\"\".join(PT)\n",
    "PT=PT.split(\" \")\n",
    "PT=\"\".join(PT)\n",
    "PT=PT.split(\"\\n\")\n",
    "PT=\"\".join(PT)\n",
    "PT=PT.split(\"'\")\n",
    "PT=\"\".join(PT)\n",
    "PT=PT.lower()\n"
   ]
  },
  {
   "cell_type": "markdown",
   "id": "f09bc9be",
   "metadata": {},
   "source": [
    "Trasformiamo il messaggio in un  vettore numerico e lo dividiamo in blocchi di dimensione fissata m con un reshape."
   ]
  },
  {
   "cell_type": "code",
   "execution_count": 56,
   "id": "3bfdf28e",
   "metadata": {},
   "outputs": [
    {
     "name": "stdout",
     "output_type": "stream",
     "text": [
      "1477\n",
      "[13 14 13 ... 11  4  0]\n"
     ]
    },
    {
     "data": {
      "text/plain": [
       "array([[13, 14, 13, ..., 14, 18,  8],\n",
       "       [ 0, 12, 14, ..., 11,  4,  0]])"
      ]
     },
     "execution_count": 56,
     "metadata": {},
     "output_type": "execute_result"
    }
   ],
   "source": [
    "m=2\n",
    "P=list(PT)\n",
    "P=[ D[P[i]] for i in range(len(P))]\n",
    "n=len(P)\n",
    "print(n)\n",
    "P=P+[0]*(m-n%m)\n",
    "#print(P)\n",
    "P=np.array(P)\n",
    "print(P)\n",
    "n=len(P)\n",
    "righe=int(n/m)\n",
    "\n",
    "\n",
    "P=np.reshape(P,(m,righe))\n",
    "P"
   ]
  },
  {
   "cell_type": "code",
   "execution_count": 58,
   "id": "a4981641",
   "metadata": {},
   "outputs": [
    {
     "data": {
      "text/plain": [
       "array([17, 13])"
      ]
     },
     "execution_count": 58,
     "metadata": {},
     "output_type": "execute_result"
    }
   ],
   "source": [
    "P[:,295]"
   ]
  },
  {
   "cell_type": "markdown",
   "id": "47d9f02d",
   "metadata": {},
   "source": [
    "Definiamo una chiave K"
   ]
  },
  {
   "cell_type": "code",
   "execution_count": 59,
   "id": "3b23892a",
   "metadata": {},
   "outputs": [],
   "source": [
    "K=np.array([[1,2],[2,3]])"
   ]
  },
  {
   "cell_type": "markdown",
   "id": "51e755ac",
   "metadata": {},
   "source": [
    "Cifriamo tramite la moltiplicazione matriciale modulo 26 e otteniamo il testo cifrato riutilizzando la corridpondenza lettere numeri."
   ]
  },
  {
   "cell_type": "code",
   "execution_count": 60,
   "id": "c37681d4",
   "metadata": {},
   "outputs": [],
   "source": [
    "C=mulmod(K,P)\n",
    "CT=np.reshape(C,(1,n))\n",
    "CT=CT[0]\n",
    "CT=[DD[i] for i in CT]\n",
    "CT=\"\".join(CT)"
   ]
  },
  {
   "cell_type": "code",
   "execution_count": 61,
   "id": "85a0ce9a",
   "metadata": {},
   "outputs": [
    {
     "data": {
      "text/plain": [
       "'nmpvkyucoyrcftuhgqzakimvhadmisboixkyczmuqrqzicvirccwuynrmogsocwzismmqhezbggvqidcpuaqcvoqijazkwxayijkabycvamnelqasaesocqrxruuquaiegclxalkxotmzkpgtehswhkvavcqvulegyabbevkhvmhkuxyazjmievyscuwwtmsascumtunubcyetuzygkebckvcbhrugqamuipqetisspulivowwtbipjygnkkukuzkawmxspixuwenadusxovnohknocsyyptucrlwhbrcsciugdgrymubpaeeebcbiejubqgvsuqullidxoowcilqbtzoakzqshaeqpicgpsredayaqqmquubqiiodvcibiwdaqpnydcaxrsneymmtmqovsfepexeiyaqekdrydsmribqxyqitwmovavseeintvqsyzkwgwvumukzgnghqqewrcqagxilaukeeoqtitwwqgeqchgiwjxatqolikvdctchtinstelmkkscnsfobkzeopmxwvqmvmtcdjeveyoipmkuttqurobekdzorontormycmtnegjcauojdixwgkirywccvoskltilkbmblqcyyjnmndexqkeajsqnmfunjholexuniqjssoiqvqbtkzicrougpivoqhqdgibsqmabmuiyowqwpqhwrhiojilwzegscfayljcvnopkcetyhmutkuyokdyuodfkaiamqnmevepdaqezgtyvfasjubgatsivucdoqhkhugvgyufqcjvqrlakmxfojkzebfiyyfyiaelykjcogssgncnccmddagceradmopwlkazwmmallwxhuioscfqvvxsoufasnwoajmcixuhqnyegayoggmhmmcqtfiehailiqjdchocvdonskmixmkkrgdovwdwswomygnturualgnormgurmmqhuvyscallzqoivqciqbkmyidovyzqkeypgmaqvurgosgicmrgdamuagksvmicdzapqclkqzlqfwhdyvkpqfkayliefoirappaqqyoidgkeyodksijooyscjbwosnimucnsrcygawydqmteqvinhoosruplglniovcoqdjmeanypmenqwsisawoyjihevmscisumvvoneatyxolcwaducgbmdwyucdxzwqizaeosxkucyxozkhamgypygscpofkcuysosxgfauwaeqkloomxlebyihggnjszwfjmtkrqdioayaajudgkknvkkkgvijaupozuuzuaqyhnmvdooqmqliznxucwxmmhcccnekojsnuvmakeswgoonmcomzziodekzckjlyzwcjhujawkohwmatafcdgtosyamwgnxgpuatgpilkicpicclizeemevzxymqzcymstamkqrujyhaieohskqcvofumweouovaxcqeuowqxmictzevyodmazratcjvsbilwjwq'"
      ]
     },
     "execution_count": 61,
     "metadata": {},
     "output_type": "execute_result"
    }
   ],
   "source": [
    "CT"
   ]
  },
  {
   "cell_type": "markdown",
   "id": "cad4c5e9",
   "metadata": {},
   "source": [
    "## Inversione e Decifratura\n",
    "Costruiamo una funzione che calocli, se possibile, la matrice inversa di K e usiamola per decifrare il testo."
   ]
  },
  {
   "cell_type": "code",
   "execution_count": 62,
   "id": "4e7baeb3",
   "metadata": {},
   "outputs": [],
   "source": [
    "def invertibile(A):\n",
    "    det=round(sc.linalg.det(A))\n",
    "    return not (det%13==0 or det%2==0)\n",
    "\n",
    "    "
   ]
  },
  {
   "cell_type": "code",
   "execution_count": 78,
   "id": "d53da831",
   "metadata": {},
   "outputs": [
    {
     "data": {
      "text/plain": [
       "4"
      ]
     },
     "execution_count": 78,
     "metadata": {},
     "output_type": "execute_result"
    }
   ],
   "source": [
    "def inversomod(x,num):\n",
    "    a=x\n",
    "    b=num\n",
    "    \n",
    "    while a%b>0:\n",
    "        r=a%b\n",
    "        q=a//b\n",
    "        a=b\n",
    "        b=r\n",
    "    return b\n",
    "inversomod(112,12)"
   ]
  },
  {
   "cell_type": "code",
   "execution_count": null,
   "id": "e299f0e8",
   "metadata": {},
   "outputs": [],
   "source": [
    "def inversa(A):\n",
    "    det=round(sc.linalg.det(A)%26)\n",
    "    invdet=0\n",
    "    if det%26==2 or det%26==13 or det%26==0:\n",
    "        return 0\n",
    "    while det*invdet%26!=1:\n",
    "        invdet+=1\n",
    "    \n",
    "    print(invdet)\n",
    "    inv=[]\n",
    "    d=A.shape\n",
    "    \n",
    "    for j in range(d[1]):\n",
    "        riga=[]\n",
    "        for i in range(d[0]):\n",
    "            righe=list(range(d[0]))\n",
    "            righe.remove(i)\n",
    "            colonne=list(range(d[1]))\n",
    "            colonne.remove(j)\n",
    "            parita=(-1)**(((i+1)+(j+1)))\n",
    "            rid=A[righe,colonne]\n",
    "            #print(type(rid[0]))\n",
    "            if 1 in rid.shape:\n",
    "                detrid=rid[0]\n",
    "            else:\n",
    "                detrid=round(sc.linalg.det(rid)%26)\n",
    "            #print(type(parita), type(invdet), type(detrid))\n",
    "            riga.append((parita*detrid*invdet)%26)\n",
    "        inv.append(riga)\n",
    "    return np.array(inv)"
   ]
  },
  {
   "cell_type": "code",
   "execution_count": 63,
   "id": "34ac549b",
   "metadata": {},
   "outputs": [
    {
     "name": "stdout",
     "output_type": "stream",
     "text": [
      "25\n"
     ]
    },
    {
     "data": {
      "text/plain": [
       "array([[23,  2],\n",
       "       [ 2, 25]])"
      ]
     },
     "execution_count": 63,
     "metadata": {},
     "output_type": "execute_result"
    }
   ],
   "source": [
    "Inv=inversa(K)\n",
    "Inv"
   ]
  },
  {
   "cell_type": "code",
   "execution_count": 64,
   "id": "fc2011e8",
   "metadata": {},
   "outputs": [
    {
     "data": {
      "text/plain": [
       "array([[1, 0],\n",
       "       [0, 1]], dtype=int32)"
      ]
     },
     "execution_count": 64,
     "metadata": {},
     "output_type": "execute_result"
    }
   ],
   "source": [
    "np.dot(K,Inv)%26"
   ]
  },
  {
   "cell_type": "code",
   "execution_count": 65,
   "id": "93fc0dbe",
   "metadata": {},
   "outputs": [
    {
     "data": {
      "text/plain": [
       "'nonpuoicombattereunaguerradasoloilcuoreeunarmaturacisalvamasiconsumaavoltechiedereaiutocifapauramabastaunsolopassocomeilprimouomosullalunaperchedafuorinonsivedequantevoltehaipiantosinascesoliesimuorenelcuorediqualcunaltrosiamoangeliconunalasoltantoeriusciremoavolaresolorestandolunoaccantoallaltrocammineroaunpassodateefermeremoilventocomedentroagliuraganisupereroicomeioeteseavraipauraallorastringimilemaniperchesiamoinvincibilivicinieovunqueandrosaraiconmesupereroisoloioeteduegoccedipioggiachesalvanoilmondodallenuvolecisonoferitechenonsenevannonemmenocoltempopiuprofondediquellochesembranoguarisconosopralapellemainfondoticambianodentrohoversatocositantelacrimefinoadodiaremestessomaognivoltachehotoccatoilfondotucerilostessoohquandosiamodistantiognivoltachepiangipiangepureilcieloohnonhomoltodadartimatigiurochecammineroaunpassodateefermeremoilventocomedentroagliuraganisupereroicomeioeteseavraipauraallorastringimilemaniperchesiamoinvincibilivicinieovunqueandrosaraiconmesupereroisoloioeteduegoccedipioggiachesalvanoilmondodallenuvolemibastaunattimoecapiscocheognicicatricetuaeanchemiamibastaunattimoperdirticheconteognipostoecasamiaperchesiamoinvincibilivicinieovunqueandrosaraiconmesupereroisoloioeteduegoccedipioggiachesalvanoilmondodallenuvolecammineroaunpassodateefermeremoilventocomedentroagliuraganisupereroicomeioeteseavraipauraallorastringimilemaniperchesiamoinvincibilivicinieovunqueandrosaraiconmesupereroisoloioeteduegoccedipioggiachesalvanoilmondodallenuvolea'"
      ]
     },
     "execution_count": 65,
     "metadata": {},
     "output_type": "execute_result"
    }
   ],
   "source": [
    "PP=np.dot(Inv,C)%26\n",
    "PPP=np.reshape(PP,(1,n))[0]\n",
    "PPP=\"\".join([DD[i] for i in PPP])\n",
    "PPP"
   ]
  },
  {
   "cell_type": "markdown",
   "id": "d62aa09f",
   "metadata": {},
   "source": [
    "## Attacco"
   ]
  },
  {
   "cell_type": "code",
   "execution_count": 68,
   "id": "db6825bb",
   "metadata": {},
   "outputs": [
    {
     "name": "stdout",
     "output_type": "stream",
     "text": [
      "2 3\n",
      "19\n"
     ]
    }
   ],
   "source": [
    "flag=False\n",
    "for a in range(len(P[0])):\n",
    "    for b in range(a+1,len(P[0])):\n",
    "        if invertibile(P[:,[a,b]]):\n",
    "            flag=True\n",
    "            break \n",
    "\n",
    "    if flag:\n",
    "        break\n",
    "print(a,b)\n",
    "Past=P[:,[a,b]]\n",
    "Pastm1=inversa(Past)\n",
    "\n",
    "\n",
    "    "
   ]
  },
  {
   "cell_type": "code",
   "execution_count": 69,
   "id": "68afc9a3",
   "metadata": {},
   "outputs": [
    {
     "data": {
      "text/plain": [
       "11"
      ]
     },
     "execution_count": 69,
     "metadata": {},
     "output_type": "execute_result"
    }
   ],
   "source": [
    "round(sc.linalg.det(P[:,[a,b]])%26)"
   ]
  },
  {
   "cell_type": "code",
   "execution_count": 73,
   "id": "a425638b",
   "metadata": {},
   "outputs": [],
   "source": [
    "Kstar=np.dot(C[:,[a,b]],Pastm1)%26"
   ]
  },
  {
   "cell_type": "code",
   "execution_count": 74,
   "id": "a6bccbce",
   "metadata": {},
   "outputs": [
    {
     "data": {
      "text/plain": [
       "array([[ True,  True],\n",
       "       [ True,  True]])"
      ]
     },
     "execution_count": 74,
     "metadata": {},
     "output_type": "execute_result"
    }
   ],
   "source": [
    "Kstar==K"
   ]
  },
  {
   "cell_type": "code",
   "execution_count": 72,
   "id": "565a0925",
   "metadata": {},
   "outputs": [
    {
     "data": {
      "text/plain": [
       "array([[15, 21],\n",
       "       [16, 13]])"
      ]
     },
     "execution_count": 72,
     "metadata": {},
     "output_type": "execute_result"
    }
   ],
   "source": []
  },
  {
   "cell_type": "code",
   "execution_count": null,
   "id": "53269f7f",
   "metadata": {},
   "outputs": [],
   "source": []
  }
 ],
 "metadata": {
  "kernelspec": {
   "display_name": "Python 3 (ipykernel)",
   "language": "python",
   "name": "python3"
  },
  "language_info": {
   "codemirror_mode": {
    "name": "ipython",
    "version": 3
   },
   "file_extension": ".py",
   "mimetype": "text/x-python",
   "name": "python",
   "nbconvert_exporter": "python",
   "pygments_lexer": "ipython3",
   "version": "3.10.4"
  }
 },
 "nbformat": 4,
 "nbformat_minor": 5
}
