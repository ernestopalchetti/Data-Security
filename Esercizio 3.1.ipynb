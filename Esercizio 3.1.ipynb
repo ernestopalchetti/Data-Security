{
 "cells": [
  {
   "cell_type": "code",
   "execution_count": 2,
   "id": "d26d1732",
   "metadata": {},
   "outputs": [],
   "source": [
    "import numpy as np"
   ]
  },
  {
   "cell_type": "code",
   "execution_count": 3,
   "id": "9c6dab5e",
   "metadata": {},
   "outputs": [],
   "source": [
    "file=open(\"Plain.txt\",\"r\")\n",
    "p=[]\n",
    "for line in file:\n",
    "    p.append(line)\n",
    "\n",
    "file.close()\n",
    "p=list(p)"
   ]
  },
  {
   "cell_type": "code",
   "execution_count": 4,
   "id": "4d4b9502",
   "metadata": {},
   "outputs": [],
   "source": [
    "p=\"\".join(p)\n",
    "p=p.split(\" \")\n",
    "p=\"\".join(p)\n",
    "p=p.split(\"\\n\")\n",
    "p=\"\".join(p)\n",
    "p=p.split(\"'\")\n",
    "p=\"\".join(p)\n",
    "p=p.lower()\n",
    "p=list(p)"
   ]
  },
  {
   "cell_type": "code",
   "execution_count": 5,
   "id": "cab4834d",
   "metadata": {},
   "outputs": [],
   "source": [
    "alfabeto=\"abcdefghijklmnopqrstuvwxyz\"\n",
    "\n",
    "Freq=dict(zip(list(alfabeto),[0 for i in range(26)]))\n",
    "for lettera in p:\n",
    "    Freq[lettera]+=1\n",
    "    \n",
    "    "
   ]
  },
  {
   "cell_type": "code",
   "execution_count": 6,
   "id": "f32ac858",
   "metadata": {},
   "outputs": [
    {
     "name": "stdout",
     "output_type": "stream",
     "text": [
      "a 10.42654028436019\n",
      "b 0.6770480704129994\n",
      "c 5.213270142180095\n",
      "d 2.9790115098171968\n",
      "e 11.374407582938389\n",
      "f 0.6770480704129994\n",
      "g 2.098849018280298\n",
      "h 1.6249153689911984\n",
      "i 10.69735951252539\n",
      "j 0.0\n",
      "k 0.0\n",
      "l 5.416384563303995\n",
      "m 4.400812457684496\n",
      "n 7.447528774542993\n",
      "o 11.848341232227488\n",
      "p 2.5727826675693977\n",
      "q 0.5416384563303994\n",
      "r 5.9580230196343935\n",
      "s 5.0101557210561944\n",
      "t 4.333107650643195\n",
      "u 4.333107650643195\n",
      "v 2.3696682464454977\n",
      "w 0.0\n",
      "x 0.0\n",
      "y 0.0\n",
      "z 0.0\n"
     ]
    }
   ],
   "source": [
    "for i in alfabeto:\n",
    "    print(i, Freq[i]/len(p)*100)"
   ]
  },
  {
   "cell_type": "markdown",
   "id": "02ce41e2",
   "metadata": {},
   "source": [
    "# Digrammi"
   ]
  },
  {
   "cell_type": "code",
   "execution_count": 7,
   "id": "e03e0239",
   "metadata": {},
   "outputs": [],
   "source": [
    "m=2\n",
    "Mgrammi=dict()"
   ]
  },
  {
   "cell_type": "code",
   "execution_count": 8,
   "id": "9b2505ee",
   "metadata": {},
   "outputs": [],
   "source": [
    "p2=\"\".join(p)\n",
    "N=len(p2)\n",
    "for i in range(len(p)-1):\n",
    "    mgramma=\"\".join(p[i:i+m])\n",
    "    if mgramma not in Mgrammi:\n",
    "        Mgrammi[mgramma]=(len(p2.split(mgramma))-1)\n",
    "    "
   ]
  },
  {
   "cell_type": "code",
   "execution_count": 9,
   "id": "7032227a",
   "metadata": {},
   "outputs": [
    {
     "data": {
      "text/plain": [
       "{'no': 16,\n",
       " 'on': 21,\n",
       " 'np': 4,\n",
       " 'pu': 2,\n",
       " 'uo': 6,\n",
       " 'oi': 25,\n",
       " 'ic': 19,\n",
       " 'co': 19,\n",
       " 'om': 11,\n",
       " 'mb': 3,\n",
       " 'ba': 4,\n",
       " 'at': 11,\n",
       " 'tt': 3,\n",
       " 'te': 20,\n",
       " 'er': 36,\n",
       " 're': 20,\n",
       " 'eu': 2,\n",
       " 'un': 16,\n",
       " 'na': 8,\n",
       " 'ag': 7,\n",
       " 'gu': 2,\n",
       " 'ue': 10,\n",
       " 'rr': 1,\n",
       " 'ra': 21,\n",
       " 'ad': 3,\n",
       " 'da': 11,\n",
       " 'as': 15,\n",
       " 'so': 17,\n",
       " 'ol': 21,\n",
       " 'lo': 13,\n",
       " 'il': 19,\n",
       " 'lc': 4,\n",
       " 'cu': 3,\n",
       " 'or': 8,\n",
       " 'ee': 4,\n",
       " 'ar': 9,\n",
       " 'rm': 4,\n",
       " 'ma': 10,\n",
       " 'tu': 3,\n",
       " 'ur': 10,\n",
       " 'ac': 9,\n",
       " 'ci': 14,\n",
       " 'is': 12,\n",
       " 'sa': 11,\n",
       " 'al': 19,\n",
       " 'lv': 8,\n",
       " 'va': 6,\n",
       " 'am': 14,\n",
       " 'si': 11,\n",
       " 'ns': 4,\n",
       " 'su': 9,\n",
       " 'um': 1,\n",
       " 'aa': 4,\n",
       " 'av': 5,\n",
       " 'vo': 9,\n",
       " 'lt': 9,\n",
       " 'ec': 8,\n",
       " 'ch': 18,\n",
       " 'hi': 1,\n",
       " 'ie': 7,\n",
       " 'ed': 16,\n",
       " 'de': 7,\n",
       " 'ea': 9,\n",
       " 'ai': 10,\n",
       " 'iu': 7,\n",
       " 'ut': 1,\n",
       " 'to': 12,\n",
       " 'oc': 16,\n",
       " 'if': 1,\n",
       " 'fa': 1,\n",
       " 'ap': 5,\n",
       " 'pa': 8,\n",
       " 'au': 10,\n",
       " 'ab': 1,\n",
       " 'st': 11,\n",
       " 'ta': 9,\n",
       " 'op': 4,\n",
       " 'ss': 6,\n",
       " 'me': 17,\n",
       " 'ei': 5,\n",
       " 'lp': 1,\n",
       " 'pr': 3,\n",
       " 'ri': 11,\n",
       " 'im': 9,\n",
       " 'mo': 19,\n",
       " 'ou': 1,\n",
       " 'os': 12,\n",
       " 'ul': 1,\n",
       " 'll': 11,\n",
       " 'la': 6,\n",
       " 'lu': 2,\n",
       " 'pe': 14,\n",
       " 'rc': 5,\n",
       " 'he': 17,\n",
       " 'af': 1,\n",
       " 'fu': 1,\n",
       " 'in': 22,\n",
       " 'iv': 7,\n",
       " 've': 5,\n",
       " 'eq': 1,\n",
       " 'qu': 8,\n",
       " 'ua': 5,\n",
       " 'an': 29,\n",
       " 'nt': 14,\n",
       " 'ev': 2,\n",
       " 'eh': 2,\n",
       " 'ha': 1,\n",
       " 'ip': 13,\n",
       " 'pi': 9,\n",
       " 'ia': 17,\n",
       " 'sc': 4,\n",
       " 'ce': 7,\n",
       " 'es': 23,\n",
       " 'li': 9,\n",
       " 'mu': 1,\n",
       " 'en': 15,\n",
       " 'ne': 6,\n",
       " 'el': 6,\n",
       " 'di': 9,\n",
       " 'iq': 2,\n",
       " 'tr': 10,\n",
       " 'ro': 22,\n",
       " 'oa': 11,\n",
       " 'ng': 6,\n",
       " 'ge': 2,\n",
       " 'nu': 5,\n",
       " 'oe': 10,\n",
       " 'us': 1,\n",
       " 'ir': 2,\n",
       " 'em': 14,\n",
       " 'nd': 13,\n",
       " 'do': 9,\n",
       " 'cc': 6,\n",
       " 'ca': 9,\n",
       " 'mm': 4,\n",
       " 'mi': 10,\n",
       " 'od': 11,\n",
       " 'ef': 4,\n",
       " 'fe': 4,\n",
       " 'gl': 3,\n",
       " 'ga': 3,\n",
       " 'ni': 14,\n",
       " 'up': 8,\n",
       " 'io': 12,\n",
       " 'et': 8,\n",
       " 'se': 5,\n",
       " 'vr': 3,\n",
       " 'gi': 9,\n",
       " 'le': 12,\n",
       " 'nv': 4,\n",
       " 'vi': 8,\n",
       " 'nc': 5,\n",
       " 'ib': 6,\n",
       " 'bi': 5,\n",
       " 'eo': 6,\n",
       " 'ov': 5,\n",
       " 'vu': 4,\n",
       " 'nq': 4,\n",
       " 'dr': 4,\n",
       " 'nm': 4,\n",
       " 'du': 4,\n",
       " 'eg': 4,\n",
       " 'go': 4,\n",
       " 'og': 9,\n",
       " 'gg': 4,\n",
       " 'lm': 4,\n",
       " 'uv': 4,\n",
       " 'of': 2,\n",
       " 'it': 2,\n",
       " 'nn': 1,\n",
       " 'mp': 1,\n",
       " 'po': 2,\n",
       " 'fo': 3,\n",
       " 'br': 1,\n",
       " 'nf': 1,\n",
       " 'ot': 3,\n",
       " 'ti': 7,\n",
       " 'oh': 3,\n",
       " 'ho': 3,\n",
       " 'rs': 1,\n",
       " 'cr': 1,\n",
       " 'fi': 1,\n",
       " 'ao': 1,\n",
       " 'gn': 4,\n",
       " 'lf': 1,\n",
       " 'uc': 1,\n",
       " 'oo': 2,\n",
       " 'hq': 1,\n",
       " 'ep': 2,\n",
       " 'hn': 1,\n",
       " 'nh': 1,\n",
       " 'rt': 2,\n",
       " 'ig': 1,\n",
       " 'ae': 1,\n",
       " 'rd': 1}"
      ]
     },
     "execution_count": 9,
     "metadata": {},
     "output_type": "execute_result"
    }
   ],
   "source": [
    "Mgrammi"
   ]
  },
  {
   "cell_type": "code",
   "execution_count": 22,
   "id": "b5cd23f5",
   "metadata": {},
   "outputs": [],
   "source": [
    "IC=0\n",
    "H=0\n",
    "for i in Mgrammi:\n",
    "    f=Mgrammi[i]\n",
    "    IC=IC+f*(f-1)/((N-1)*(N-2))\n",
    "    H=H-f/(N-1)*np.log(f/(N-1))\n",
    "    "
   ]
  },
  {
   "cell_type": "code",
   "execution_count": 23,
   "id": "d6970168",
   "metadata": {},
   "outputs": [
    {
     "name": "stdout",
     "output_type": "stream",
     "text": [
      "0.008010656377750211 4.950744038892074\n"
     ]
    }
   ],
   "source": [
    "print(IC,H)"
   ]
  },
  {
   "cell_type": "code",
   "execution_count": 24,
   "id": "a5cb0279",
   "metadata": {},
   "outputs": [
    {
     "data": {
      "text/plain": [
       "0.6931471805599453"
      ]
     },
     "execution_count": 24,
     "metadata": {},
     "output_type": "execute_result"
    }
   ],
   "source": [
    "np.log(2)"
   ]
  },
  {
   "cell_type": "code",
   "execution_count": null,
   "id": "f75ea461",
   "metadata": {},
   "outputs": [],
   "source": []
  }
 ],
 "metadata": {
  "kernelspec": {
   "display_name": "Python 3 (ipykernel)",
   "language": "python",
   "name": "python3"
  },
  "language_info": {
   "codemirror_mode": {
    "name": "ipython",
    "version": 3
   },
   "file_extension": ".py",
   "mimetype": "text/x-python",
   "name": "python",
   "nbconvert_exporter": "python",
   "pygments_lexer": "ipython3",
   "version": "3.10.4"
  }
 },
 "nbformat": 4,
 "nbformat_minor": 5
}
