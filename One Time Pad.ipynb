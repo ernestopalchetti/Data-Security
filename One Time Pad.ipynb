{
 "cells": [
  {
   "cell_type": "code",
   "execution_count": 36,
   "id": "5e8a5afc",
   "metadata": {},
   "outputs": [],
   "source": [
    "alfa=\"abcdefghijklmnopqrstuvwxyz\"\n",
    "D=dict(zip(list(alfa),range(26)))\n",
    "DD=dict(zip(range(26), list(alfa)))"
   ]
  },
  {
   "cell_type": "code",
   "execution_count": 47,
   "id": "778905d8",
   "metadata": {},
   "outputs": [],
   "source": [
    "file=open(\"Plain.txt\",\"r\")\n",
    "m=file.readline()\n",
    "file.close()\n",
    "\n",
    "l=len(m)\n",
    "file2=open(\"chiave.txt\",\"r\")\n",
    "c=file2.readline()\n",
    "chiave=c[0:l]\n",
    "file2.close()\n",
    "c=c[l:len(c)]\n",
    "file2=open(\"chiave.txt\",\"w\")\n",
    "file2.writelines(c)\n",
    "file2.close()\n"
   ]
  },
  {
   "cell_type": "code",
   "execution_count": 48,
   "id": "0237d13b",
   "metadata": {},
   "outputs": [
    {
     "data": {
      "text/plain": [
       "'jqij'"
      ]
     },
     "execution_count": 48,
     "metadata": {},
     "output_type": "execute_result"
    }
   ],
   "source": [
    "chiave=list(chiave)\n",
    "kk=[D[i] for i in chiave]\n",
    "mm=[D[i] for i in m]\n",
    "\n",
    "cc=[(mm[i]+kk[i])%26 for i in range(l)]\n",
    "cipher=\"\".join([DD[i] for i in cc])\n",
    "cipher"
   ]
  },
  {
   "cell_type": "code",
   "execution_count": 49,
   "id": "5f4ca659",
   "metadata": {},
   "outputs": [],
   "source": [
    "mm2=[(cc[i]-kk[i])%26 for i in range(l)]\n",
    "mm2=\"\".join([DD[i] for i in mm2])"
   ]
  },
  {
   "cell_type": "code",
   "execution_count": 50,
   "id": "122c77c7",
   "metadata": {},
   "outputs": [
    {
     "data": {
      "text/plain": [
       "'cosa'"
      ]
     },
     "execution_count": 50,
     "metadata": {},
     "output_type": "execute_result"
    }
   ],
   "source": [
    "mm2"
   ]
  },
  {
   "cell_type": "code",
   "execution_count": null,
   "id": "ab6ab070",
   "metadata": {},
   "outputs": [],
   "source": []
  },
  {
   "cell_type": "code",
   "execution_count": null,
   "id": "f6e2b630",
   "metadata": {},
   "outputs": [],
   "source": []
  }
 ],
 "metadata": {
  "kernelspec": {
   "display_name": "Python 3 (ipykernel)",
   "language": "python",
   "name": "python3"
  },
  "language_info": {
   "codemirror_mode": {
    "name": "ipython",
    "version": 3
   },
   "file_extension": ".py",
   "mimetype": "text/x-python",
   "name": "python",
   "nbconvert_exporter": "python",
   "pygments_lexer": "ipython3",
   "version": "3.9.12"
  }
 },
 "nbformat": 4,
 "nbformat_minor": 5
}
