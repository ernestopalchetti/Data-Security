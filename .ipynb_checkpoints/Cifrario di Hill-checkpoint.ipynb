{
 "cells": [
  {
   "cell_type": "markdown",
   "id": "5aa4fd6a",
   "metadata": {},
   "source": [
    "# Cifrario di Hill\n",
    "## Implementiamo il cifrario di Hill in python\n",
    "Per prima cosa importiamo numpy che gestisce già le moltiplicazioni tra matrici e tra vettori."
   ]
  },
  {
   "cell_type": "code",
   "execution_count": 11,
   "id": "589df2b2",
   "metadata": {},
   "outputs": [],
   "source": [
    "import numpy as np"
   ]
  },
  {
   "cell_type": "markdown",
   "id": "64fe757c",
   "metadata": {},
   "source": [
    "Definiamo quindi una funzione che si appoggi alla moltiplicazione matriciale di numpy ma la renda modulo 26."
   ]
  },
  {
   "cell_type": "code",
   "execution_count": 49,
   "id": "6f59d1be",
   "metadata": {},
   "outputs": [],
   "source": [
    "def mulmod(A,B):\n",
    "    C=np.dot(A,B)\n",
    "    d=C.shape\n",
    "    \n",
    "    for i in range(d[0]):\n",
    "        for j in range(d[1]):\n",
    "            C[i,j]=C[i,j]%26\n",
    "    return C"
   ]
  },
  {
   "cell_type": "markdown",
   "id": "a7b8d168",
   "metadata": {},
   "source": [
    "Definiamo una lista che colleghi le lettere ai valori numerici."
   ]
  },
  {
   "cell_type": "code",
   "execution_count": 55,
   "id": "37eda954",
   "metadata": {},
   "outputs": [],
   "source": [
    "s=\"abcdefghijklmnopqrstuvwxyz\"\n",
    "alfabeto=list(s)\n",
    "r=range(26)\n",
    "D=dict(zip(alfabeto,r))\n",
    "DD=dict(zip(r,alfabeto))"
   ]
  },
  {
   "cell_type": "markdown",
   "id": "99ee2fc8",
   "metadata": {},
   "source": [
    "Estraiamo il testo da un file txt."
   ]
  },
  {
   "cell_type": "code",
   "execution_count": 21,
   "id": "2dc15d68",
   "metadata": {},
   "outputs": [],
   "source": [
    "file=open(\"Plain.txt\",\"r\")\n",
    "PT=[]\n",
    "for line in file:\n",
    "    PT.append(line)\n",
    "\n",
    "file.close()"
   ]
  },
  {
   "cell_type": "markdown",
   "id": "9829b29f",
   "metadata": {},
   "source": [
    "Ripuliamo il messaggio."
   ]
  },
  {
   "cell_type": "code",
   "execution_count": 22,
   "id": "6eba5715",
   "metadata": {},
   "outputs": [],
   "source": [
    "PT=\"\".join(PT)\n",
    "PT=PT.split(\" \")\n",
    "PT=\"\".join(PT)\n",
    "PT=PT.split(\"\\n\")\n",
    "PT=\"\".join(PT)\n",
    "PT=PT.split(\"'\")\n",
    "PT=\"\".join(PT)\n",
    "PT=PT.lower()\n"
   ]
  },
  {
   "cell_type": "markdown",
   "id": "f09bc9be",
   "metadata": {},
   "source": [
    "Trasformiamo il messaggio in un  vettore numerico e lo dividiamo in blocchi di dimensione fissata m con un reshape."
   ]
  },
  {
   "cell_type": "code",
   "execution_count": 29,
   "id": "3bfdf28e",
   "metadata": {},
   "outputs": [
    {
     "name": "stdout",
     "output_type": "stream",
     "text": [
      "1477\n",
      "[13 14 13 ... 11  4  0]\n"
     ]
    },
    {
     "data": {
      "text/plain": [
       "array([[13, 14],\n",
       "       [13, 15],\n",
       "       [20, 14],\n",
       "       ...,\n",
       "       [20, 21],\n",
       "       [14, 11],\n",
       "       [ 4,  0]])"
      ]
     },
     "execution_count": 29,
     "metadata": {},
     "output_type": "execute_result"
    }
   ],
   "source": [
    "m=2\n",
    "P=list(PT)\n",
    "P=[ D[P[i]] for i in range(len(P))]\n",
    "n=len(P)\n",
    "print(n)\n",
    "P=P+[0]*(m-n%m)\n",
    "#print(P)\n",
    "P=np.array(P)\n",
    "print(P)\n",
    "n=len(P)\n",
    "righe=int(n/m)\n",
    "\n",
    "\n",
    "P=np.reshape(P,(righe,m))\n",
    "P"
   ]
  },
  {
   "cell_type": "code",
   "execution_count": 30,
   "id": "a4981641",
   "metadata": {},
   "outputs": [
    {
     "data": {
      "text/plain": [
       "array([ 0, 13])"
      ]
     },
     "execution_count": 30,
     "metadata": {},
     "output_type": "execute_result"
    }
   ],
   "source": [
    "P[295,:]"
   ]
  },
  {
   "cell_type": "markdown",
   "id": "e7d1472b",
   "metadata": {},
   "source": [
    "Definiamo una chiave K"
   ]
  },
  {
   "cell_type": "code",
   "execution_count": 32,
   "id": "3b23892a",
   "metadata": {},
   "outputs": [],
   "source": [
    "K=np.array([[1,2],[2,3]])"
   ]
  },
  {
   "cell_type": "markdown",
   "id": "c238557f",
   "metadata": {},
   "source": [
    "Cifriamo tramite la moltiplicazione matriciale modulo 26 e otteniamo il testo cifrato riutilizzando la corridpondenza lettere numeri."
   ]
  },
  {
   "cell_type": "code",
   "execution_count": 59,
   "id": "c37681d4",
   "metadata": {},
   "outputs": [],
   "source": [
    "C=mulmod(P,K)\n",
    "CT=np.reshape(C,(1,n))\n",
    "CT=CT[0]\n",
    "CT=[DD[i] for i in CT]\n",
    "CT=\"\".join(CT)"
   ]
  },
  {
   "cell_type": "code",
   "execution_count": 60,
   "id": "e25563ca",
   "metadata": {},
   "outputs": [
    {
     "data": {
      "text/plain": [
       "'pqrtwemwmmbcfrmhsqnauumhridguanmexqmwbmuubizmyhuriscskbhykkcmwopgsmyqlkjbyqzqclszuqygtsisfetoirimybcepoixckjsvkcuaeuukexxdgackmmyeqvlwzenaxqvopadgtswbidopiidclseoanbyxgxbsdqyfcanvciinawqokkjqciiagwbevapqmwbkromuopcubwhblyeiqooanoybueubinalwuaxbanvcmhwywqqpcsocxglwzuuanmzuepanfwzepqegcezfochdwhblsiykcwvmtyoirtkcuadgbyoxmhukzuooexdczfsimmkrevblocctwyrigmdygsxqzutymwmmugwobyawqlrimjoiriwhnmriephgzsgaexcsanmjmhqzokiqooidlorgktexybmwidqcenubeoeitjtyskrimwopukgsxqzutysskjeawobyroqasikqtefcauwkegpaskbhaneajgopfwdghdevkzkjiossopyrmhuviopapqxcevutanpqvmkievsikjbyqrsvwyxdyroplsteeoapnmqzokcsjbanauuohgwqopyesvrilwxqhdcsqyxpopfwjkceobiqpqlszftyjedcbkmfsiyeuvanbylwkdgaoxidocfwteizcsokbycmmmcqgzybkjtmqzsdahsicevcexhatjahyumhexyebycmqsnkuotjyeiqooteepanjkaudyxgxbegpafcanwkfcanoydmzuexscapqshbopjeooxbulgjizjkmyjkwkcnsipacekiidmhocubpecmulmfmunwpsmhcseabhevvceuuklszftymsbucnmsanssyhmhmheaeuukkgqnokeidpqypecnaahdwbkcblidwkcwtimydyxqvopaiiykeadlidscrabuloscdygyjytwcaanlfyeizqyeulkokyhmhmheauanmkgqnkrcaicgkkrmjkgseiqqzokwhvqpqexootjulwhtibixgticwbcepoinafrgawocefcwqsipaaudyscceblmwqnuoeirgpacwykktkctmubmfjkooxqxrqpjkqzioopbyaudyruepwoceskcwetmhqzokiqooidlorgktexybmwidqcenubeoeitjtyskrimwopukgsxqzutysskjeawobyroqasikqtefcauwkegpaskbhaneajgopfwdghdevkzkjioykcwvmtyoirtkcuadgbyoxmhukzuooexdczfsimmkrevblocctwyrigmdygsxqzutymwmmugwobyawqlrimjoiriwhnmriephgzsgaexcsanmjmhqzokiqooidlorgktexybmwidqcenubeoeitjtyskrimwopukgsxqzutysskjeawobyroqasikqtefcauwkegpaskbhaneajgopfwdghdevkzkjei'"
      ]
     },
     "execution_count": 60,
     "metadata": {},
     "output_type": "execute_result"
    }
   ],
   "source": [
    "CT"
   ]
  },
  {
   "cell_type": "markdown",
   "id": "33ddaa94",
   "metadata": {},
   "source": [
    "## Inversione e Decifratura\n",
    "Costruiamo una funzione che calocli, se possibile, la matrice inversa di K e usiamola per decifrare il testo."
   ]
  },
  {
   "cell_type": "code",
   "execution_count": 64,
   "id": "d9547377",
   "metadata": {},
   "outputs": [],
   "source": [
    "def invertibile(A):\n",
    "    det=np.linalg.det(A)\n",
    "    return not (det%13==0 or det%2==0)\n",
    "\n",
    "    "
   ]
  },
  {
   "cell_type": "code",
   "execution_count": 71,
   "id": "25207108",
   "metadata": {},
   "outputs": [],
   "source": [
    "def inversa(A):\n",
    "    det=np.linalg.det(A)%26\n",
    "    invdet\n",
    "    while det*invdet%26!=1:\n",
    "        invdet+=1\n",
    "    \n",
    "    \n",
    "    inv=[]\n",
    "    d=A.shape\n",
    "    \n",
    "    for j in range(d[1]):\n",
    "        riga=[]\n",
    "        for i in range(d[0]):\n",
    "            righe=list(range(d[0]))\n",
    "            colonne=list(range(d[1]))\n",
    "            parita=(((i+1)+(j+1))%2)*(-1)\n",
    "            rid=A[righe.remove(i),colonne.remove(j)]\n",
    "            detrid=np.linalg.det(rid)%26\n",
    "            riga.append(parita*detrid)*invdet\n",
    "    return np.array(inv)"
   ]
  },
  {
   "cell_type": "code",
   "execution_count": 92,
   "id": "6843b108",
   "metadata": {},
   "outputs": [
    {
     "name": "stdout",
     "output_type": "stream",
     "text": [
      "[[[15 16]\n",
      "  [17 19]\n",
      "  [22  4]\n",
      "  ...\n",
      "  [10 25]\n",
      "  [10  9]\n",
      "  [ 4  8]]]\n",
      "[[[15 16]\n",
      "  [17 19]\n",
      "  [22  4]\n",
      "  ...\n",
      "  [10 25]\n",
      "  [10  9]\n",
      "  [ 4  8]]]\n"
     ]
    }
   ],
   "source": [
    "indici=list(range(4))\n",
    "print(C[indici.remove(3),:])\n",
    "print(C[indici.remove(2),:])"
   ]
  },
  {
   "cell_type": "code",
   "execution_count": 93,
   "id": "fea827a0",
   "metadata": {},
   "outputs": [
    {
     "data": {
      "text/plain": [
       "[0, 1]"
      ]
     },
     "execution_count": 93,
     "metadata": {},
     "output_type": "execute_result"
    }
   ],
   "source": [
    "indici"
   ]
  },
  {
   "cell_type": "code",
   "execution_count": null,
   "id": "7499fe86",
   "metadata": {},
   "outputs": [],
   "source": []
  }
 ],
 "metadata": {
  "kernelspec": {
   "display_name": "Python 3 (ipykernel)",
   "language": "python",
   "name": "python3"
  },
  "language_info": {
   "codemirror_mode": {
    "name": "ipython",
    "version": 3
   },
   "file_extension": ".py",
   "mimetype": "text/x-python",
   "name": "python",
   "nbconvert_exporter": "python",
   "pygments_lexer": "ipython3",
   "version": "3.10.4"
  }
 },
 "nbformat": 4,
 "nbformat_minor": 5
}
