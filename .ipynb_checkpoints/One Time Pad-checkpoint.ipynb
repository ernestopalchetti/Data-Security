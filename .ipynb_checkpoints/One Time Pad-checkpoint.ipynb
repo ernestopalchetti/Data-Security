{
 "cells": [
  {
   "cell_type": "code",
   "execution_count": 13,
   "id": "3b81c916",
   "metadata": {},
   "outputs": [],
   "source": [
    "alfa=\"abcdefghijklmnopqrstuvwxyz\"\n",
    "D=dict(zip(list(alfa),range(26)))\n",
    "DD=dict(zip(range(26), list(alfa)))"
   ]
  },
  {
   "cell_type": "code",
   "execution_count": 14,
   "id": "24019e0e",
   "metadata": {},
   "outputs": [],
   "source": [
    "file=open(\"Plain.txt\",\"r\")\n",
    "m=file.readline()\n",
    "file.close()\n",
    "\n",
    "l=len(m)\n",
    "file2=open(\"chiave.txt\",\"r\")\n",
    "c=file2.readline()\n",
    "chiave=c[0:l]\n",
    "file2.close()\n",
    "c=c[l:len(c)]\n",
    "file2=open(\"chiave.txt\",\"w\")\n",
    "file2.writelines(c)\n",
    "file2.close()\n"
   ]
  },
  {
   "cell_type": "code",
   "execution_count": 22,
   "id": "0cbfc0b9",
   "metadata": {},
   "outputs": [],
   "source": [
    "chiave=list(chiave)\n",
    "kk=[D[i] for i in chiave]\n",
    "mm=[D[i] for i in m]\n",
    "\n",
    "cc=[(mm[i]+kk[i])%26 for i in range(l)]\n"
   ]
  },
  {
   "cell_type": "code",
   "execution_count": 28,
   "id": "11cfed2f",
   "metadata": {},
   "outputs": [],
   "source": [
    "mm2=[(cc[i]-kk[i])%26 for i in range(l)]\n",
    "mm2=\"\".join([DD[i] for i in mm2])"
   ]
  },
  {
   "cell_type": "code",
   "execution_count": 29,
   "id": "22d345d6",
   "metadata": {},
   "outputs": [
    {
     "data": {
      "text/plain": [
       "'dattitempoattentochefiniscimale'"
      ]
     },
     "execution_count": 29,
     "metadata": {},
     "output_type": "execute_result"
    }
   ],
   "source": [
    "mm2"
   ]
  },
  {
   "cell_type": "code",
   "execution_count": 27,
   "id": "3aca79c2",
   "metadata": {},
   "outputs": [
    {
     "data": {
      "text/plain": [
       "'dattitempoattentochefiniscimale'"
      ]
     },
     "execution_count": 27,
     "metadata": {},
     "output_type": "execute_result"
    }
   ],
   "source": []
  },
  {
   "cell_type": "code",
   "execution_count": null,
   "id": "7cec6cce",
   "metadata": {},
   "outputs": [],
   "source": []
  }
 ],
 "metadata": {
  "kernelspec": {
   "display_name": "Python 3 (ipykernel)",
   "language": "python",
   "name": "python3"
  },
  "language_info": {
   "codemirror_mode": {
    "name": "ipython",
    "version": 3
   },
   "file_extension": ".py",
   "mimetype": "text/x-python",
   "name": "python",
   "nbconvert_exporter": "python",
   "pygments_lexer": "ipython3",
   "version": "3.9.12"
  }
 },
 "nbformat": 4,
 "nbformat_minor": 5
}
